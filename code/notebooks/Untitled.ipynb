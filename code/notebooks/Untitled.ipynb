{
 "cells": [
  {
   "cell_type": "code",
   "execution_count": 1,
   "id": "325bac88-17e8-4aae-b8b4-4879e071538b",
   "metadata": {},
   "outputs": [],
   "source": [
    "import sys\n",
    "import os\n",
    "sys.path.append('..')"
   ]
  },
  {
   "cell_type": "code",
   "execution_count": 2,
   "id": "99b691ed-efe0-4d8d-a4c8-57458a375753",
   "metadata": {},
   "outputs": [],
   "source": [
    "from mypackage.catheter_utils import *"
   ]
  },
  {
   "cell_type": "code",
   "execution_count": 3,
   "id": "edcfc5d2-e5eb-43d0-8057-5ce0c3458ca3",
   "metadata": {},
   "outputs": [],
   "source": [
    "# Sympy libraries to symbolically create system models\n",
    "from sympy import symbols\n",
    "from sympy.physics import mechanics\n",
    "from sympy.physics.mechanics import dynamicsymbols\n",
    "import sympy.physics.mechanics as me\n",
    "from sympy.physics.mechanics import inertia\n",
    "from sympy import Dummy, lambdify\n",
    "from sympy import Matrix\n",
    "\n",
    "# Scipy libraries to optimize and integrate\n",
    "from scipy import integrate\n",
    "from scipy.integrate import odeint\n",
    "from scipy.optimize import minimize\n",
    "\n",
    "# Numpy library to perform computational heavy lifting\n",
    "import numpy as np\n",
    "\n",
    "# Crawlab plotting toolbox to generate nice plots\n",
    "# import crawlab_toolbox.plotting as plot\n",
    "\n",
    "from matplotlib.animation import writers\n",
    "from matplotlib import animation, rc\n",
    "from matplotlib import pyplot as plt\n",
    "import matplotlib as mpl\n",
    "\n",
    "# Ignore warnings\n",
    "import warnings\n",
    "warnings.filterwarnings(\"ignore\")\n",
    "\n",
    "from IPython.core.display import HTML"
   ]
  },
  {
   "cell_type": "code",
   "execution_count": 4,
   "id": "ea48268d-f129-4caf-9760-154c178e5643",
   "metadata": {},
   "outputs": [],
   "source": [
    "# Number of elements\n",
    "n = 5\n",
    "\n",
    "# Total mass \n",
    "M = 0.1 # kg\n",
    "\n",
    "# Total length\n",
    "L = 80e-3 # m\n",
    "\n",
    "# Young's Modulus\n",
    "E = 10e-3 * 1e-6\n",
    "\n",
    "# Moment of inertia\n",
    "I = 1\n",
    "\n",
    "p = [M, L, E, I]"
   ]
  },
  {
   "cell_type": "code",
   "execution_count": 5,
   "id": "2663eb6f-6b3a-4f5f-bdd9-0edae79c69ab",
   "metadata": {},
   "outputs": [],
   "source": [
    "kane = derive_sys(n,p)\n",
    "funcs = parameterize(n,kane)\n",
    "\n",
    "KM, fr, fr_star, q, u, Torque, F_in, lengths, masses = kane"
   ]
  },
  {
   "cell_type": "code",
   "execution_count": 29,
   "id": "5bf105fd-954e-4e1f-b67d-42a6b51a2bbb",
   "metadata": {},
   "outputs": [],
   "source": [
    "# Initial positions and velocities\n",
    "theta0_z = 90.\n",
    "theta0dot_z = 0.\n",
    "\n",
    "X0 = np.array([theta0_z,theta0dot_z])\n",
    "# Maximum allowable actuator effort\n",
    "force_max = 1\n",
    "\n",
    "# Time information\n",
    "dt = 0.01\n",
    "tmax = 10.\n",
    "time = np.arange(0,tmax,dt)\n",
    "\n",
    "# Desired y-coordinate of the tip\n",
    "y_desired = L/2\n",
    "\n",
    "# Control parameters\n",
    "kp = 10.\n",
    "kd = 5.\n",
    "use_control = False\n",
    "\n",
    "args = [force_max, time, X0, y_desired, lengths]\n",
    "control_args = [kp,kd,use_control]"
   ]
  },
  {
   "cell_type": "code",
   "execution_count": 25,
   "id": "135b87e0-87ac-4238-97bd-801049101331",
   "metadata": {},
   "outputs": [],
   "source": [
    "A,B = linearize_system(n,kane)"
   ]
  },
  {
   "cell_type": "code",
   "execution_count": 30,
   "id": "7e64990c-9dbc-4b30-87a9-1178bbb7431e",
   "metadata": {},
   "outputs": [],
   "source": [
    "lin_response = linear_response(n,A,B,args,control_args)\n",
    "# nonlin_response = nonlinear_response(n,args,funcs,control_args)"
   ]
  },
  {
   "cell_type": "code",
   "execution_count": 31,
   "id": "96a3db45-fce6-4f2d-b13b-d06132ec1e36",
   "metadata": {},
   "outputs": [
    {
     "data": {
      "text/plain": [
       "[<matplotlib.lines.Line2D at 0x1d02fde49a0>]"
      ]
     },
     "execution_count": 31,
     "metadata": {},
     "output_type": "execute_result"
    },
    {
     "data": {
      "image/png": "[encoded data removed]",
      "text/plain": [
       "<Figure size 432x288 with 1 Axes>"
      ]
     },
     "metadata": {
      "needs_background": "light"
     },
     "output_type": "display_data"
    }
   ],
   "source": [
    "plt.plot(time,nonlin_response[:,n-1])\n",
    "plt.plot(time,nonlin_response[:,n-2])"
   ]
  },
  {
   "cell_type": "code",
   "execution_count": 32,
   "id": "1627df7d-cd70-4ccf-b465-c392d40b42ba",
   "metadata": {},
   "outputs": [
    {
     "data": {
      "text/plain": [
       "[<matplotlib.lines.Line2D at 0x1d02ff6cf70>]"
      ]
     },
     "execution_count": 32,
     "metadata": {},
     "output_type": "execute_result"
    },
    {
     "data": {
      "image/png": "[encoded data removed]",
      "text/plain": [
       "<Figure size 432x288 with 1 Axes>"
      ]
     },
     "metadata": {
      "needs_background": "light"
     },
     "output_type": "display_data"
    }
   ],
   "source": [
    "plt.plot(time,lin_response[:,n-1])\n",
    "plt.plot(time,lin_response[:,n-2])"
   ]
  },
  {
   "cell_type": "code",
   "execution_count": null,
   "id": "25447fdc-abc7-49ef-af0d-7dcdcf88ce74",
   "metadata": {},
   "outputs": [],
   "source": []
  }
 ],
 "metadata": {
  "kernelspec": {
   "display_name": "Python 3 (ipykernel)",
   "language": "python",
   "name": "python3"
  },
  "language_info": {
   "codemirror_mode": {
    "name": "ipython",
    "version": 3
   },
   "file_extension": ".py",
   "mimetype": "text/x-python",
   "name": "python",
   "nbconvert_exporter": "python",
   "pygments_lexer": "ipython3",
   "version": "3.9.6"
  }
 },
 "nbformat": 4,
 "nbformat_minor": 5
}
